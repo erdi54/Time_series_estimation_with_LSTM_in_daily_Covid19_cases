{
 "cells": [
  {
   "cell_type": "code",
   "execution_count": 1,
   "metadata": {},
   "outputs": [],
   "source": [
    "import torch\n",
    "import os \n",
    "import numpy as np\n",
    "import pandas as pd\n",
    "from tqdm import tqdm\n",
    "import seaborn as sns\n",
    "import matplotlib.pyplot as plt\n",
    "from torch import nn, optim \n",
    "import torch.nn.functional as F\n",
    "from sklearn.preprocessing import MinMaxScaler\n",
    "from matplotlib import rc"
   ]
  },
  {
   "cell_type": "code",
   "execution_count": 2,
   "metadata": {},
   "outputs": [
    {
     "name": "stdout",
     "output_type": "stream",
     "text": [
      "None\n",
      "<torch._C.Generator object at 0x000002863B7014B0>\n"
     ]
    }
   ],
   "source": [
    "RANDOM_SEED = 42\n",
    "print(np.random.seed(RANDOM_SEED))\n",
    "print(torch.manual_seed(RANDOM_SEED))"
   ]
  },
  {
   "cell_type": "code",
   "execution_count": 3,
   "metadata": {},
   "outputs": [
    {
     "data": {
      "text/html": [
       "<div>\n",
       "<style scoped>\n",
       "    .dataframe tbody tr th:only-of-type {\n",
       "        vertical-align: middle;\n",
       "    }\n",
       "\n",
       "    .dataframe tbody tr th {\n",
       "        vertical-align: top;\n",
       "    }\n",
       "\n",
       "    .dataframe thead th {\n",
       "        text-align: right;\n",
       "    }\n",
       "</style>\n",
       "<table border=\"1\" class=\"dataframe\">\n",
       "  <thead>\n",
       "    <tr style=\"text-align: right;\">\n",
       "      <th></th>\n",
       "      <th>Province/State</th>\n",
       "      <th>Country/Region</th>\n",
       "      <th>Lat</th>\n",
       "      <th>Long</th>\n",
       "      <th>1/22/20</th>\n",
       "      <th>1/23/20</th>\n",
       "      <th>1/24/20</th>\n",
       "      <th>1/25/20</th>\n",
       "      <th>1/26/20</th>\n",
       "      <th>1/27/20</th>\n",
       "      <th>...</th>\n",
       "      <th>3/14/20</th>\n",
       "      <th>3/15/20</th>\n",
       "      <th>3/16/20</th>\n",
       "      <th>3/17/20</th>\n",
       "      <th>3/18/20</th>\n",
       "      <th>3/19/20</th>\n",
       "      <th>3/20/20</th>\n",
       "      <th>3/21/20</th>\n",
       "      <th>3/22/20</th>\n",
       "      <th>3/23/20</th>\n",
       "    </tr>\n",
       "  </thead>\n",
       "  <tbody>\n",
       "    <tr>\n",
       "      <th>0</th>\n",
       "      <td>NaN</td>\n",
       "      <td>Thailand</td>\n",
       "      <td>15.0000</td>\n",
       "      <td>101.0000</td>\n",
       "      <td>2</td>\n",
       "      <td>3</td>\n",
       "      <td>5</td>\n",
       "      <td>7</td>\n",
       "      <td>8</td>\n",
       "      <td>8</td>\n",
       "      <td>...</td>\n",
       "      <td>82</td>\n",
       "      <td>114</td>\n",
       "      <td>147</td>\n",
       "      <td>177</td>\n",
       "      <td>212</td>\n",
       "      <td>272</td>\n",
       "      <td>322</td>\n",
       "      <td>411</td>\n",
       "      <td>599</td>\n",
       "      <td>599.0</td>\n",
       "    </tr>\n",
       "    <tr>\n",
       "      <th>1</th>\n",
       "      <td>NaN</td>\n",
       "      <td>Japan</td>\n",
       "      <td>36.0000</td>\n",
       "      <td>138.0000</td>\n",
       "      <td>2</td>\n",
       "      <td>1</td>\n",
       "      <td>2</td>\n",
       "      <td>2</td>\n",
       "      <td>4</td>\n",
       "      <td>4</td>\n",
       "      <td>...</td>\n",
       "      <td>773</td>\n",
       "      <td>839</td>\n",
       "      <td>825</td>\n",
       "      <td>878</td>\n",
       "      <td>889</td>\n",
       "      <td>924</td>\n",
       "      <td>963</td>\n",
       "      <td>1007</td>\n",
       "      <td>1086</td>\n",
       "      <td>1086.0</td>\n",
       "    </tr>\n",
       "    <tr>\n",
       "      <th>2</th>\n",
       "      <td>NaN</td>\n",
       "      <td>Singapore</td>\n",
       "      <td>1.2833</td>\n",
       "      <td>103.8333</td>\n",
       "      <td>0</td>\n",
       "      <td>1</td>\n",
       "      <td>3</td>\n",
       "      <td>3</td>\n",
       "      <td>4</td>\n",
       "      <td>5</td>\n",
       "      <td>...</td>\n",
       "      <td>212</td>\n",
       "      <td>226</td>\n",
       "      <td>243</td>\n",
       "      <td>266</td>\n",
       "      <td>313</td>\n",
       "      <td>345</td>\n",
       "      <td>385</td>\n",
       "      <td>432</td>\n",
       "      <td>455</td>\n",
       "      <td>455.0</td>\n",
       "    </tr>\n",
       "    <tr>\n",
       "      <th>3</th>\n",
       "      <td>NaN</td>\n",
       "      <td>Nepal</td>\n",
       "      <td>28.1667</td>\n",
       "      <td>84.2500</td>\n",
       "      <td>0</td>\n",
       "      <td>0</td>\n",
       "      <td>0</td>\n",
       "      <td>1</td>\n",
       "      <td>1</td>\n",
       "      <td>1</td>\n",
       "      <td>...</td>\n",
       "      <td>1</td>\n",
       "      <td>1</td>\n",
       "      <td>1</td>\n",
       "      <td>1</td>\n",
       "      <td>1</td>\n",
       "      <td>1</td>\n",
       "      <td>1</td>\n",
       "      <td>1</td>\n",
       "      <td>2</td>\n",
       "      <td>2.0</td>\n",
       "    </tr>\n",
       "    <tr>\n",
       "      <th>4</th>\n",
       "      <td>NaN</td>\n",
       "      <td>Malaysia</td>\n",
       "      <td>2.5000</td>\n",
       "      <td>112.5000</td>\n",
       "      <td>0</td>\n",
       "      <td>0</td>\n",
       "      <td>0</td>\n",
       "      <td>3</td>\n",
       "      <td>4</td>\n",
       "      <td>4</td>\n",
       "      <td>...</td>\n",
       "      <td>238</td>\n",
       "      <td>428</td>\n",
       "      <td>566</td>\n",
       "      <td>673</td>\n",
       "      <td>790</td>\n",
       "      <td>900</td>\n",
       "      <td>1030</td>\n",
       "      <td>1183</td>\n",
       "      <td>1306</td>\n",
       "      <td>1306.0</td>\n",
       "    </tr>\n",
       "  </tbody>\n",
       "</table>\n",
       "<p>5 rows × 66 columns</p>\n",
       "</div>"
      ],
      "text/plain": [
       "  Province/State Country/Region      Lat      Long  1/22/20  1/23/20  1/24/20  \\\n",
       "0            NaN       Thailand  15.0000  101.0000        2        3        5   \n",
       "1            NaN          Japan  36.0000  138.0000        2        1        2   \n",
       "2            NaN      Singapore   1.2833  103.8333        0        1        3   \n",
       "3            NaN          Nepal  28.1667   84.2500        0        0        0   \n",
       "4            NaN       Malaysia   2.5000  112.5000        0        0        0   \n",
       "\n",
       "   1/25/20  1/26/20  1/27/20  ...  3/14/20  3/15/20  3/16/20  3/17/20  \\\n",
       "0        7        8        8  ...       82      114      147      177   \n",
       "1        2        4        4  ...      773      839      825      878   \n",
       "2        3        4        5  ...      212      226      243      266   \n",
       "3        1        1        1  ...        1        1        1        1   \n",
       "4        3        4        4  ...      238      428      566      673   \n",
       "\n",
       "   3/18/20  3/19/20  3/20/20  3/21/20  3/22/20  3/23/20  \n",
       "0      212      272      322      411      599    599.0  \n",
       "1      889      924      963     1007     1086   1086.0  \n",
       "2      313      345      385      432      455    455.0  \n",
       "3        1        1        1        1        2      2.0  \n",
       "4      790      900     1030     1183     1306   1306.0  \n",
       "\n",
       "[5 rows x 66 columns]"
      ]
     },
     "execution_count": 3,
     "metadata": {},
     "output_type": "execute_result"
    }
   ],
   "source": [
    "data = pd.read_csv(\"./data/time_series_19-covid-Confirmed_archived_0325.csv\")\n",
    "data.head()"
   ]
  },
  {
   "cell_type": "code",
   "execution_count": 4,
   "metadata": {},
   "outputs": [
    {
     "data": {
      "text/html": [
       "<div>\n",
       "<style scoped>\n",
       "    .dataframe tbody tr th:only-of-type {\n",
       "        vertical-align: middle;\n",
       "    }\n",
       "\n",
       "    .dataframe tbody tr th {\n",
       "        vertical-align: top;\n",
       "    }\n",
       "\n",
       "    .dataframe thead th {\n",
       "        text-align: right;\n",
       "    }\n",
       "</style>\n",
       "<table border=\"1\" class=\"dataframe\">\n",
       "  <thead>\n",
       "    <tr style=\"text-align: right;\">\n",
       "      <th></th>\n",
       "      <th>1/22/20</th>\n",
       "      <th>1/23/20</th>\n",
       "      <th>1/24/20</th>\n",
       "      <th>1/25/20</th>\n",
       "      <th>1/26/20</th>\n",
       "      <th>1/27/20</th>\n",
       "      <th>1/28/20</th>\n",
       "      <th>1/29/20</th>\n",
       "      <th>1/30/20</th>\n",
       "      <th>1/31/20</th>\n",
       "      <th>...</th>\n",
       "      <th>3/14/20</th>\n",
       "      <th>3/15/20</th>\n",
       "      <th>3/16/20</th>\n",
       "      <th>3/17/20</th>\n",
       "      <th>3/18/20</th>\n",
       "      <th>3/19/20</th>\n",
       "      <th>3/20/20</th>\n",
       "      <th>3/21/20</th>\n",
       "      <th>3/22/20</th>\n",
       "      <th>3/23/20</th>\n",
       "    </tr>\n",
       "  </thead>\n",
       "  <tbody>\n",
       "    <tr>\n",
       "      <th>0</th>\n",
       "      <td>2</td>\n",
       "      <td>3</td>\n",
       "      <td>5</td>\n",
       "      <td>7</td>\n",
       "      <td>8</td>\n",
       "      <td>8</td>\n",
       "      <td>14</td>\n",
       "      <td>14</td>\n",
       "      <td>14</td>\n",
       "      <td>19</td>\n",
       "      <td>...</td>\n",
       "      <td>82</td>\n",
       "      <td>114</td>\n",
       "      <td>147</td>\n",
       "      <td>177</td>\n",
       "      <td>212</td>\n",
       "      <td>272</td>\n",
       "      <td>322</td>\n",
       "      <td>411</td>\n",
       "      <td>599</td>\n",
       "      <td>599.0</td>\n",
       "    </tr>\n",
       "    <tr>\n",
       "      <th>1</th>\n",
       "      <td>2</td>\n",
       "      <td>1</td>\n",
       "      <td>2</td>\n",
       "      <td>2</td>\n",
       "      <td>4</td>\n",
       "      <td>4</td>\n",
       "      <td>7</td>\n",
       "      <td>7</td>\n",
       "      <td>11</td>\n",
       "      <td>15</td>\n",
       "      <td>...</td>\n",
       "      <td>773</td>\n",
       "      <td>839</td>\n",
       "      <td>825</td>\n",
       "      <td>878</td>\n",
       "      <td>889</td>\n",
       "      <td>924</td>\n",
       "      <td>963</td>\n",
       "      <td>1007</td>\n",
       "      <td>1086</td>\n",
       "      <td>1086.0</td>\n",
       "    </tr>\n",
       "    <tr>\n",
       "      <th>2</th>\n",
       "      <td>0</td>\n",
       "      <td>1</td>\n",
       "      <td>3</td>\n",
       "      <td>3</td>\n",
       "      <td>4</td>\n",
       "      <td>5</td>\n",
       "      <td>7</td>\n",
       "      <td>7</td>\n",
       "      <td>10</td>\n",
       "      <td>13</td>\n",
       "      <td>...</td>\n",
       "      <td>212</td>\n",
       "      <td>226</td>\n",
       "      <td>243</td>\n",
       "      <td>266</td>\n",
       "      <td>313</td>\n",
       "      <td>345</td>\n",
       "      <td>385</td>\n",
       "      <td>432</td>\n",
       "      <td>455</td>\n",
       "      <td>455.0</td>\n",
       "    </tr>\n",
       "    <tr>\n",
       "      <th>3</th>\n",
       "      <td>0</td>\n",
       "      <td>0</td>\n",
       "      <td>0</td>\n",
       "      <td>1</td>\n",
       "      <td>1</td>\n",
       "      <td>1</td>\n",
       "      <td>1</td>\n",
       "      <td>1</td>\n",
       "      <td>1</td>\n",
       "      <td>1</td>\n",
       "      <td>...</td>\n",
       "      <td>1</td>\n",
       "      <td>1</td>\n",
       "      <td>1</td>\n",
       "      <td>1</td>\n",
       "      <td>1</td>\n",
       "      <td>1</td>\n",
       "      <td>1</td>\n",
       "      <td>1</td>\n",
       "      <td>2</td>\n",
       "      <td>2.0</td>\n",
       "    </tr>\n",
       "    <tr>\n",
       "      <th>4</th>\n",
       "      <td>0</td>\n",
       "      <td>0</td>\n",
       "      <td>0</td>\n",
       "      <td>3</td>\n",
       "      <td>4</td>\n",
       "      <td>4</td>\n",
       "      <td>4</td>\n",
       "      <td>7</td>\n",
       "      <td>8</td>\n",
       "      <td>8</td>\n",
       "      <td>...</td>\n",
       "      <td>238</td>\n",
       "      <td>428</td>\n",
       "      <td>566</td>\n",
       "      <td>673</td>\n",
       "      <td>790</td>\n",
       "      <td>900</td>\n",
       "      <td>1030</td>\n",
       "      <td>1183</td>\n",
       "      <td>1306</td>\n",
       "      <td>1306.0</td>\n",
       "    </tr>\n",
       "  </tbody>\n",
       "</table>\n",
       "<p>5 rows × 62 columns</p>\n",
       "</div>"
      ],
      "text/plain": [
       "   1/22/20  1/23/20  1/24/20  1/25/20  1/26/20  1/27/20  1/28/20  1/29/20  \\\n",
       "0        2        3        5        7        8        8       14       14   \n",
       "1        2        1        2        2        4        4        7        7   \n",
       "2        0        1        3        3        4        5        7        7   \n",
       "3        0        0        0        1        1        1        1        1   \n",
       "4        0        0        0        3        4        4        4        7   \n",
       "\n",
       "   1/30/20  1/31/20  ...  3/14/20  3/15/20  3/16/20  3/17/20  3/18/20  \\\n",
       "0       14       19  ...       82      114      147      177      212   \n",
       "1       11       15  ...      773      839      825      878      889   \n",
       "2       10       13  ...      212      226      243      266      313   \n",
       "3        1        1  ...        1        1        1        1        1   \n",
       "4        8        8  ...      238      428      566      673      790   \n",
       "\n",
       "   3/19/20  3/20/20  3/21/20  3/22/20  3/23/20  \n",
       "0      272      322      411      599    599.0  \n",
       "1      924      963     1007     1086   1086.0  \n",
       "2      345      385      432      455    455.0  \n",
       "3        1        1        1        2      2.0  \n",
       "4      900     1030     1183     1306   1306.0  \n",
       "\n",
       "[5 rows x 62 columns]"
      ]
     },
     "execution_count": 4,
     "metadata": {},
     "output_type": "execute_result"
    }
   ],
   "source": [
    "data = data.iloc[:, 4:]\n",
    "data.head()"
   ]
  },
  {
   "cell_type": "code",
   "execution_count": 5,
   "metadata": {},
   "outputs": [
    {
     "data": {
      "text/plain": [
       "1/22/20      0\n",
       "1/23/20      0\n",
       "1/24/20      0\n",
       "1/25/20      0\n",
       "1/26/20      0\n",
       "          ... \n",
       "3/19/20      0\n",
       "3/20/20      0\n",
       "3/21/20      0\n",
       "3/22/20      0\n",
       "3/23/20    192\n",
       "Length: 62, dtype: int64"
      ]
     },
     "execution_count": 5,
     "metadata": {},
     "output_type": "execute_result"
    }
   ],
   "source": [
    "data.isnull().sum()"
   ]
  },
  {
   "cell_type": "code",
   "execution_count": 6,
   "metadata": {},
   "outputs": [
    {
     "data": {
      "text/plain": [
       "1/22/20     555.0\n",
       "1/23/20     653.0\n",
       "1/24/20     941.0\n",
       "1/25/20    1434.0\n",
       "1/26/20    2118.0\n",
       "dtype: float64"
      ]
     },
     "execution_count": 6,
     "metadata": {},
     "output_type": "execute_result"
    }
   ],
   "source": [
    "daily_cases = data.sum(axis = 0)\n",
    "daily_cases.head()"
   ]
  },
  {
   "cell_type": "code",
   "execution_count": 7,
   "metadata": {},
   "outputs": [
    {
     "data": {
      "text/plain": [
       "2020-01-22     555.0\n",
       "2020-01-23     653.0\n",
       "2020-01-24     941.0\n",
       "2020-01-25    1434.0\n",
       "2020-01-26    2118.0\n",
       "dtype: float64"
      ]
     },
     "execution_count": 7,
     "metadata": {},
     "output_type": "execute_result"
    }
   ],
   "source": [
    "daily_cases.index = pd.to_datetime(daily_cases.index)\n",
    "daily_cases.head()"
   ]
  },
  {
   "cell_type": "code",
   "execution_count": 8,
   "metadata": {},
   "outputs": [
    {
     "data": {
      "text/plain": [
       "Text(0.5, 1.0, 'Cumulative Daily Cases')"
      ]
     },
     "execution_count": 8,
     "metadata": {},
     "output_type": "execute_result"
    },
    {
     "data": {
      "image/png": "[encoded data removed]",
      "text/plain": [
       "<Figure size 432x288 with 1 Axes>"
      ]
     },
     "metadata": {
      "needs_background": "light"
     },
     "output_type": "display_data"
    }
   ],
   "source": [
    "plt.plot(daily_cases)\n",
    "plt.title(\"Cumulative Daily Cases\")"
   ]
  },
  {
   "cell_type": "code",
   "execution_count": 9,
   "metadata": {},
   "outputs": [
    {
     "data": {
      "text/plain": [
       "2020-01-22    555\n",
       "2020-01-23     98\n",
       "2020-01-24    288\n",
       "2020-01-25    493\n",
       "2020-01-26    684\n",
       "dtype: int64"
      ]
     },
     "execution_count": 9,
     "metadata": {},
     "output_type": "execute_result"
    }
   ],
   "source": [
    "daily_cases = daily_cases.diff().fillna(daily_cases[0]).astype(np.int64)\n",
    "daily_cases.head()"
   ]
  },
  {
   "cell_type": "code",
   "execution_count": 10,
   "metadata": {},
   "outputs": [
    {
     "data": {
      "text/plain": [
       "Text(0.5, 1.0, 'Daily Cases')"
      ]
     },
     "execution_count": 10,
     "metadata": {},
     "output_type": "execute_result"
    },
    {
     "data": {
      "image/png": "[encoded data removed]",
      "text/plain": [
       "<Figure size 432x288 with 1 Axes>"
      ]
     },
     "metadata": {
      "needs_background": "light"
     },
     "output_type": "display_data"
    }
   ],
   "source": [
    "plt.plot(daily_cases)\n",
    "plt.title(\"Daily Cases\")"
   ]
  },
  {
   "cell_type": "code",
   "execution_count": 11,
   "metadata": {},
   "outputs": [
    {
     "data": {
      "text/plain": [
       "(62,)"
      ]
     },
     "execution_count": 11,
     "metadata": {},
     "output_type": "execute_result"
    }
   ],
   "source": [
    "daily_cases.shape"
   ]
  },
  {
   "cell_type": "markdown",
   "metadata": {},
   "source": [
    "#### Preprocessing"
   ]
  },
  {
   "cell_type": "code",
   "execution_count": 12,
   "metadata": {},
   "outputs": [
    {
     "name": "stdout",
     "output_type": "stream",
     "text": [
      "(48,) (14,)\n"
     ]
    }
   ],
   "source": [
    "test_data_size = 14\n",
    "train_data = daily_cases[:-test_data_size]\n",
    "test_data = daily_cases[-test_data_size:]\n",
    "print(train_data.shape, test_data.shape)"
   ]
  },
  {
   "cell_type": "code",
   "execution_count": 13,
   "metadata": {},
   "outputs": [],
   "source": [
    "scaler= MinMaxScaler()\n",
    "scaler = scaler.fit(np.expand_dims(train_data, axis=1))\n",
    "\n",
    "train_data = scaler.transform(np.expand_dims(train_data, axis=1))\n",
    "test_data = scaler.transform(np.expand_dims(test_data, axis=1))"
   ]
  },
  {
   "cell_type": "code",
   "execution_count": 14,
   "metadata": {},
   "outputs": [],
   "source": [
    "def sliding_windows(data, seq_length):\n",
    "    xs = []\n",
    "    ys = []\n",
    "    \n",
    "    for i in range(len(data)- seq_length - 1):\n",
    "        x = data[i: (i + seq_length)]\n",
    "        y = data[ i + seq_length]\n",
    "        xs.append(x)\n",
    "        ys.append(y)\n",
    "        \n",
    "    return np.array(xs), np.array(ys)"
   ]
  },
  {
   "cell_type": "code",
   "execution_count": 15,
   "metadata": {},
   "outputs": [],
   "source": [
    "seq_length = 5\n",
    "\n",
    "X_train, y_train = sliding_windows(train_data, seq_length)\n",
    "X_test, y_test = sliding_windows(test_data, seq_length)"
   ]
  },
  {
   "cell_type": "code",
   "execution_count": 16,
   "metadata": {},
   "outputs": [
    {
     "name": "stdout",
     "output_type": "stream",
     "text": [
      "(42, 5, 1) (42, 1)\n"
     ]
    }
   ],
   "source": [
    "print(X_train.shape , y_train.shape)"
   ]
  },
  {
   "cell_type": "code",
   "execution_count": 17,
   "metadata": {},
   "outputs": [],
   "source": [
    "X_train = torch.from_numpy(X_train).float()\n",
    "y_train = torch.from_numpy(y_train).float()\n",
    "\n",
    "X_test = torch.from_numpy(X_test).float()\n",
    "y_test = torch.from_numpy(y_test).float()"
   ]
  },
  {
   "cell_type": "markdown",
   "metadata": {},
   "source": [
    "#### Building a Model "
   ]
  },
  {
   "cell_type": "code",
   "execution_count": 18,
   "metadata": {},
   "outputs": [],
   "source": [
    "class CoronaVirusPredictor(nn.Module):\n",
    "    def __init__(self,input_dim, hidden_dim, seq_len, num_layers=2):\n",
    "            super(CoronaVirusPredictor, self).__init__()\n",
    "            self.input_dim = input_dim\n",
    "            self.hidden_dim = hidden_dim\n",
    "            self.seq_len = seq_len\n",
    "            self.num_layers = num_layers\n",
    "           \n",
    "            self.lstm = nn.LSTM(\n",
    "              input_size = input_dim,\n",
    "              hidden_size = hidden_dim,\n",
    "              num_layers = num_layers,\n",
    "              dropout=0.5\n",
    "            )\n",
    "\n",
    "            self.linear= nn.Linear(in_features = hidden_dim, out_features=1)\n",
    "\n",
    "    def  reset_hidden_state(self):\n",
    "        \n",
    "            self.hidden = (\n",
    "                torch.zeros(self.num_layers, self.seq_len, self.hidden_dim),\n",
    "                torch.zeros(self.num_layers, self.seq_len, self.hidden_dim)\n",
    "             )\n",
    "\n",
    "    def forward(self, input):\n",
    "        \n",
    "            lstm_out, self.hidden = self.lstm(\n",
    "                    input.view(len(input), self.seq_len, -1),\n",
    "                    self.hidden \n",
    "                    )\n",
    "            y_pred =self.linear(\n",
    "                    lstm_out.view(self.seq_len, len(input), self.hidden_dim)[-1]\n",
    "                )\n",
    "            return y_pred"
   ]
  },
  {
   "cell_type": "code",
   "execution_count": 51,
   "metadata": {},
   "outputs": [],
   "source": [
    "from torch.optim import Adam\n",
    "\n",
    "def train_model(model, train_data, train_labels, test_data=None,  test_labels=None):\n",
    "     \n",
    "        loss_fn = nn.MSELoss(reduction= 'sum')\n",
    "        \n",
    "        optimizer = Adam(model.parameters(), lr = 1e-3)\n",
    "       \n",
    "        num_epochs = 60\n",
    "        train_hist = np.zeros(num_epochs)\n",
    "        test_hist = np.zeros(num_epochs)\n",
    "\n",
    "        for t in range(num_epochs):\n",
    "           \n",
    "            model.reset_hidden_state()\n",
    "            y_pred = model(X_train)\n",
    "            loss = loss_fn(y_pred.float(), y_train)\n",
    "            \n",
    "            if test_data is not None:\n",
    "                with torch.no_grad():\n",
    "                    y_test_pred = model(X_test)\n",
    "                    test_loss = loss_fn(y_test_pred.float(), y_test)\n",
    "                  \n",
    "                test_hist[t] = test_loss.item()\n",
    "      \n",
    "                if t % 10 == 0:\n",
    "                        print(f'Epoch {t} train loss: {loss.item()} test loss: {test_loss.item()}')\n",
    "                elif t % 10 == 0:\n",
    "                        print(f'Epoch {t} train loss: {loss.item()}')\n",
    "                  \n",
    "                  \n",
    "                train_hist[t] = loss.item()\n",
    "                optimizer.zero_grad()\n",
    "                loss.backward()\n",
    "                optimizer.step()\n",
    "          \n",
    "        return model.eval(), train_hist, test_hist\n",
    "        \n",
    "            "
   ]
  },
  {
   "cell_type": "code",
   "execution_count": 52,
   "metadata": {},
   "outputs": [
    {
     "name": "stdout",
     "output_type": "stream",
     "text": [
      "Epoch 0 train loss: 2.0717527866363525 test loss: 19.939144134521484\n",
      "Epoch 10 train loss: 1.07797372341156 test loss: 16.991018295288086\n",
      "Epoch 20 train loss: 1.0342861413955688 test loss: 16.58531379699707\n",
      "Epoch 30 train loss: 1.037254810333252 test loss: 16.53104019165039\n",
      "Epoch 40 train loss: 1.037719488143921 test loss: 16.79714584350586\n",
      "Epoch 50 train loss: 1.0536339282989502 test loss: 16.825733184814453\n"
     ]
    }
   ],
   "source": [
    "model = CoronaVirusPredictor (1, 512, seq_len = seq_length , num_layers=2)\n",
    "model, train_hist, test_hist = train_model(model, X_train, y_train, X_test,  y_test)"
   ]
  },
  {
   "cell_type": "code",
   "execution_count": 53,
   "metadata": {},
   "outputs": [
    {
     "data": {
      "image/png": "[encoded data removed]",
      "text/plain": [
       "<Figure size 432x288 with 1 Axes>"
      ]
     },
     "metadata": {
      "needs_background": "light"
     },
     "output_type": "display_data"
    }
   ],
   "source": [
    "plt.plot(train_hist, label = 'Training loss')\n",
    "plt.plot(test_hist, label = 'Test loss')\n",
    "plt.ylim((0,100))\n",
    "plt.legend()\n",
    "plt.show()"
   ]
  },
  {
   "cell_type": "code",
   "execution_count": 63,
   "metadata": {},
   "outputs": [],
   "source": [
    "with torch.no_grad():\n",
    "      \n",
    "    test_seq = X_test[:1]\n",
    "    preds = []\n",
    "    for _ in range(len(X_test)):\n",
    "        y_test_pred = model(test_seq)\n",
    "        pred = torch.flatten(y_test_pred).item()\n",
    "        preds.append(pred)\n",
    "        \n",
    "        new_seq = test_seq.numpy().flatten()\n",
    "        new_seq = np.append(new_seq, [pred])\n",
    "        new_seq = new_seq[1:]\n",
    "        test_seq = torch.as_tensor(new_seq).view(1, seq_length, 1).float()"
   ]
  },
  {
   "cell_type": "code",
   "execution_count": 64,
   "metadata": {},
   "outputs": [],
   "source": [
    "true_cases = scaler.inverse_transform(\n",
    "      np.expand_dims(y_test.flatten().numpy(), axis=0)).flatten()\n",
    "\n",
    "predicted_cases = scaler.inverse_transform(\n",
    "      np.expand_dims(preds, axis=0)).flatten()"
   ]
  },
  {
   "cell_type": "code",
   "execution_count": 65,
   "metadata": {},
   "outputs": [
    {
     "data": {
      "image/png": "[encoded data removed]",
      "text/plain": [
       "<Figure size 432x288 with 1 Axes>"
      ]
     },
     "metadata": {
      "needs_background": "light"
     },
     "output_type": "display_data"
    }
   ],
   "source": [
    "plt.plot(\n",
    "  daily_cases.index[:len(train_data)],\n",
    "  scaler.inverse_transform(train_data).flatten(),\n",
    "  label='Historical Daily Cases'\n",
    ")\n",
    "plt.plot(\n",
    "  daily_cases.index[len(train_data):len(train_data) + len(true_cases)],\n",
    "  true_cases,\n",
    "  label='Real Daily Cases'\n",
    ")\n",
    "plt.plot(\n",
    "  daily_cases.index[len(train_data):len(train_data) + len(true_cases)],\n",
    "  predicted_cases,\n",
    "  label='Predicted Daily Cases'\n",
    ")\n",
    "plt.legend();"
   ]
  },
  {
   "cell_type": "markdown",
   "metadata": {},
   "source": [
    "#### Use all data for training"
   ]
  },
  {
   "cell_type": "code",
   "execution_count": 72,
   "metadata": {},
   "outputs": [
    {
     "data": {
      "text/plain": [
       "(62, 1)"
      ]
     },
     "execution_count": 72,
     "metadata": {},
     "output_type": "execute_result"
    }
   ],
   "source": [
    "scaler = MinMaxScaler()\n",
    "scaler = scaler.fit(np.expand_dims(daily_cases, axis=1))\n",
    "all_data = scaler.transform(np.expand_dims(daily_cases, axis=1))\n",
    "all_data.shape"
   ]
  },
  {
   "cell_type": "code",
   "execution_count": 73,
   "metadata": {},
   "outputs": [
    {
     "name": "stdout",
     "output_type": "stream",
     "text": [
      "torch.Size([56, 5, 1]) torch.Size([56, 1])\n"
     ]
    }
   ],
   "source": [
    "X_all, y_all = sliding_windows(all_data, seq_length)\n",
    "X_all = torch.from_numpy(X_all).float()\n",
    "y_all = torch.from_numpy(y_all).float()\n",
    "print(X_all.shape, y_all.shape)"
   ]
  },
  {
   "cell_type": "code",
   "execution_count": 74,
   "metadata": {},
   "outputs": [],
   "source": [
    "model1 = CoronaVirusPredictor( 1, 512, seq_len =seq_length, num_layers=2)\n",
    "model1, train_hist, test_hist = train_model(model, X_all, y_all)"
   ]
  },
  {
   "cell_type": "code",
   "execution_count": 78,
   "metadata": {},
   "outputs": [],
   "source": [
    "DAYS_TO_PREDICT = 8\n",
    "with torch.no_grad():\n",
    "        test_seq = X_all[:1]\n",
    "        preds = []\n",
    "        for _ in range(len(X_test)):\n",
    "            y_test_pred = model1(test_seq)\n",
    "            pred = torch.flatten(y_test_pred).item()\n",
    "            preds.append(pred)\n",
    "\n",
    "            new_seq = test_seq.numpy().flatten()\n",
    "            new_seq = np.append(new_seq, [pred])\n",
    "            new_seq = new_seq[1:]\n",
    "            test_seq = torch.as_tensor(new_seq).view(1, seq_length, 1).float()"
   ]
  },
  {
   "cell_type": "code",
   "execution_count": 79,
   "metadata": {},
   "outputs": [
    {
     "name": "stdout",
     "output_type": "stream",
     "text": [
      "(8,)\n"
     ]
    }
   ],
   "source": [
    "predicted_cases = scaler.inverse_transform(\n",
    "  np.expand_dims(preds, axis=0)\n",
    ").flatten()\n",
    "print(predicted_cases.shape)"
   ]
  },
  {
   "cell_type": "code",
   "execution_count": 80,
   "metadata": {},
   "outputs": [
    {
     "data": {
      "image/png": "[encoded data removed]",
      "text/plain": [
       "<Figure size 432x288 with 1 Axes>"
      ]
     },
     "metadata": {
      "needs_background": "light"
     },
     "output_type": "display_data"
    }
   ],
   "source": [
    "daily_cases.index[-1]\n",
    "predicted_index = pd.date_range(\n",
    "  start=daily_cases.index[-1],\n",
    "  periods=DAYS_TO_PREDICT + 1,\n",
    "  closed='right'\n",
    ")\n",
    "predicted_cases = pd.Series(\n",
    "  data=predicted_cases,\n",
    "  index=predicted_index\n",
    ")\n",
    "plt.plot(predicted_cases, label='Predicted Daily Cases')\n",
    "plt.legend();\n"
   ]
  },
  {
   "cell_type": "code",
   "execution_count": 81,
   "metadata": {},
   "outputs": [
    {
     "data": {
      "image/png": "[encoded data removed]",
      "text/plain": [
       "<Figure size 432x288 with 1 Axes>"
      ]
     },
     "metadata": {
      "needs_background": "light"
     },
     "output_type": "display_data"
    }
   ],
   "source": [
    "plt.plot(daily_cases, label='Historical Daily Cases')\n",
    "plt.plot(predicted_cases, label='Predicted Daily Cases')\n",
    "plt.legend();"
   ]
  },
  {
   "cell_type": "code",
   "execution_count": null,
   "metadata": {},
   "outputs": [],
   "source": []
  }
 ],
 "metadata": {
  "kernelspec": {
   "display_name": "Python 3",
   "language": "python",
   "name": "python3"
  },
  "language_info": {
   "codemirror_mode": {
    "name": "ipython",
    "version": 3
   },
   "file_extension": ".py",
   "mimetype": "text/x-python",
   "name": "python",
   "nbconvert_exporter": "python",
   "pygments_lexer": "ipython3",
   "version": "3.7.7"
  }
 },
 "nbformat": 4,
 "nbformat_minor": 4
}
